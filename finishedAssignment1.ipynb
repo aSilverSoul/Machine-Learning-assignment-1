{
  "nbformat": 4,
  "nbformat_minor": 0,
  "metadata": {
    "colab": {
      "name": "Assignment 1.ipynb",
      "version": "0.3.2",
      "provenance": [],
      "collapsed_sections": []
    },
    "language_info": {
      "codemirror_mode": {
        "name": "ipython",
        "version": 3
      },
      "file_extension": ".py",
      "mimetype": "text/x-python",
      "name": "python",
      "nbconvert_exporter": "python",
      "pygments_lexer": "ipython3",
      "version": "3.5.3"
    },
    "kernelspec": {
      "display_name": "Python 3",
      "language": "python",
      "name": "python3"
    }
  },
  "cells": [
    {
      "cell_type": "markdown",
      "metadata": {
        "deletable": true,
        "editable": true,
        "id": "A6JwFp444_CA",
        "colab_type": "text"
      },
      "source": [
        "<h2>Assignment 1 - Part 1: Linear Regression on Boston Housing Data</h2>\n",
        "\n",
        "You're asked to do the following tasks to predict boston house price:\n",
        "<lu>\n",
        "<li>Use scikit-learn</li>\n",
        "<li>Implement analytical solution (normal equation) to obtain weights</li>\n",
        "<li>Implement numerical solution (gradient descent) to obtain weights</li>\n",
        "</lu>\n",
        "    Note: the accuracy of your implementations should be close to that of a linear model from scikit-learn\n",
        "In addition, you need to show the resulting intercept and coefficents, calculate errors on training dataset and testing dataset, and plot a figure to show your predictions and real prices on the testing dataset. "
      ]
    },
    {
      "cell_type": "code",
      "metadata": {
        "deletable": true,
        "editable": true,
        "id": "WL2i7Ajy4_CB",
        "colab_type": "code",
        "colab": {}
      },
      "source": [
        "#Gary Machorro CS4990-Machine Learning\n",
        "#Summer-2019\n",
        "#6/10/19\n",
        "#\n",
        "# The modules we're going to use\n",
        "from __future__ import print_function\n",
        "from sklearn import preprocessing\n",
        "from sklearn.model_selection import train_test_split\n",
        "from sklearn import datasets, linear_model\n",
        "from scipy import linalg\n",
        "import numpy as np\n",
        "import matplotlib.pyplot as plt\n",
        "\n",
        "# When you execute a code to plot with a simple SHIFT-ENTER, the plot will be shown directly under the code cell\n",
        "%matplotlib inline"
      ],
      "execution_count": 0,
      "outputs": []
    },
    {
      "cell_type": "code",
      "metadata": {
        "deletable": true,
        "editable": true,
        "id": "BixebX6L4_CF",
        "colab_type": "code",
        "colab": {}
      },
      "source": [
        "# Load data from scikit-learn, which returns (data, target)\n",
        "# note: if you call \"boston = load_boston()\", it returns a dictionary-like object\n",
        "data, target = datasets.load_boston(True)\n",
        "\n",
        "# Split the data into two parts: training data and testing data\n",
        "train_data,test_data,train_target,test_target = train_test_split(data,(target[:, np.newaxis]), test_size=0.2, random_state=42)\n"
      ],
      "execution_count": 0,
      "outputs": []
    },
    {
      "cell_type": "markdown",
      "metadata": {
        "deletable": true,
        "editable": true,
        "id": "x5WWWSe74_CI",
        "colab_type": "text"
      },
      "source": [
        "<h4>Use scikit-learn library in the following cell</h4>"
      ]
    },
    {
      "cell_type": "code",
      "metadata": {
        "deletable": true,
        "editable": true,
        "id": "b_OlPBys4_CJ",
        "colab_type": "code",
        "outputId": "e9c4cb1c-83e9-4926-c08e-b9f307d49637",
        "colab": {
          "base_uri": "https://localhost:8080/",
          "height": 626
        }
      },
      "source": [
        "\n",
        "# Task 1-1: use linear regression in sklearn\n",
        "from sklearn.linear_model import LinearRegression\n",
        "from sklearn.metrics import mean_squared_error,r2_score\n",
        "\n",
        "lin_model = LinearRegression() #initialize the linear regression\n",
        "lin_model.fit(train_data,train_target) #fit the line using the given data\n",
        "\n",
        "################################################################\n",
        "\n",
        "# Task 1-2: show intercept and coefficents\n",
        "print('Coefficients: \\n', lin_model.coef_)#Print the coefficient as well as the intercept\n",
        "print(\"\\n\")\n",
        "print('Intercept: \\n', lin_model.intercept_)\n",
        "\n",
        "###############################################################\n",
        "\n",
        "# Task 1-3: show errors on training dataset and testing dataset\n",
        "\n",
        "# training set\n",
        "\n",
        "target_train_predict = lin_model.predict(train_data)#from the model predict the price\n",
        "rmse = (np.sqrt(mean_squared_error(train_target, target_train_predict)))#find error\n",
        "\n",
        "print(\"\\n\")\n",
        "print(\"Training set error\")\n",
        "print(\"--------------------------------------\")\n",
        "print('RMSE is {}'.format(rmse))\n",
        "print(\"\\n\")\n",
        "\n",
        "# testing set\n",
        "\n",
        "target_test_predict = lin_model.predict(test_data)#prediction for the test target\n",
        "# root mean square error of the model\n",
        "rmse = (np.sqrt(mean_squared_error(test_target, target_test_predict)))#find error\n",
        "\n",
        "\n",
        "print(\"Testing set error\")\n",
        "print(\"--------------------------------------\")\n",
        "print('RMSE is {}'.format(rmse))\n",
        "print(\"\\n\")\n",
        "\n",
        "\n",
        "####################################################################\n",
        "# Task 1-4: show plot a figure to show your predictions and real prices on the testing dataset\n",
        "\n",
        "plt.scatter(test_target,target_test_predict)#plot the figures\n",
        "plt.show()\n"
      ],
      "execution_count": 71,
      "outputs": [
        {
          "output_type": "stream",
          "text": [
            "Coefficients: \n",
            " [[-1.13055924e-01  3.01104641e-02  4.03807204e-02  2.78443820e+00\n",
            "  -1.72026334e+01  4.43883520e+00 -6.29636221e-03 -1.44786537e+00\n",
            "   2.62429736e-01 -1.06467863e-02 -9.15456240e-01  1.23513347e-02\n",
            "  -5.08571424e-01]]\n",
            "\n",
            "\n",
            "Intercept: \n",
            " [30.24675099]\n",
            "\n",
            "\n",
            "Training set\n",
            "--------------------------------------\n",
            "RMSE is 4.652033184880168\n",
            "\n",
            "\n",
            "Testing set\n",
            "--------------------------------------\n",
            "RMSE is 4.9286021826653466\n",
            "\n",
            "\n"
          ],
          "name": "stdout"
        },
        {
          "output_type": "display_data",
          "data": {
            "image/png": "[encoded data removed]",
            "text/plain": [
              "<Figure size 432x288 with 1 Axes>"
            ]
          },
          "metadata": {
            "tags": []
          }
        }
      ]
    },
    {
      "cell_type": "markdown",
      "metadata": {
        "deletable": true,
        "editable": true,
        "id": "dcnkMDcQ4_CM",
        "colab_type": "text"
      },
      "source": [
        "<h4>Use analytical solution (normal equation) to perform linear regression in the following cell</h4>"
      ]
    },
    {
      "cell_type": "code",
      "metadata": {
        "deletable": true,
        "editable": true,
        "id": "uhwRNjB_4_CN",
        "colab_type": "code",
        "outputId": "c5e25ee1-e371-403c-bc4d-cdfa8af7f1a7",
        "colab": {
          "base_uri": "https://localhost:8080/",
          "height": 796
        }
      },
      "source": [
        "# Task 2-1: Implement a function solving normal equation \n",
        "# Inputs: Training data and  training label\n",
        "# Output: Weights\n",
        "from matplotlib import pyplot\n",
        "from numpy.linalg import inv\n",
        "\n",
        "X=np.array(train_data)\n",
        "y=np.array(train_target)\n",
        "\n",
        "#plt.scatter(X,y)\n",
        "\n",
        "def myNormalEqualFun(X,y):\n",
        "    X_transpose = X.T  #basically doing the math operation for the normal equation to obtain weights\n",
        "    weights = inv(X_transpose.dot(X)).dot(X_transpose).dot(y)  \n",
        "    return weights\n",
        "      \n",
        "# Task 2-2: Implement a function performing prediction\n",
        "# Inputs: Testing data and weights\n",
        "# Output: Predictions\n",
        "\n",
        "def myPredictFun(X,weights):\n",
        "  \n",
        "  test_X_b = np.c_[np.ones((102, 1)), test_data]#use test data to create a prediction using arrays\n",
        "  prediction = test_X_b.dot(weights)#dot probduct using the weights to create the prediciton\n",
        "  \n",
        "  return prediction\n",
        "\n",
        "# Here we insert a column of 1s into training_data and test_data (to be consistent with our lecture slides)\n",
        "train_data_intercept = np.insert(train_data, 0, 1, axis=1)\n",
        "test_data_intercept = np.insert(test_data, 0, 1, axis=1)\n",
        "\n",
        "# Here we call myNormalEqual to train the model and get weights\n",
        "w = myNormalEqualFun(train_data_intercept,train_target)\n",
        "\n",
        "\n",
        "# Task 2-3: show intercept and coefficents\n",
        "print(\"Intercept: \\n\",w[0])\n",
        "print(\"\\n\")\n",
        "print(\"Coefficients:\\n\",w)\n",
        "\n",
        "# Task 2-4: show errors on training dataset and testing dataset\n",
        "\n",
        "#train set\n",
        "target_train_predict = lin_model.predict(train_data)#from the model predict the price\n",
        "rmse = (np.sqrt(mean_squared_error(train_target, target_train_predict)))#find error\n",
        "print(\"\\n\")\n",
        "print(\"Training set error\")\n",
        "print(\"--------------------------------------\")\n",
        "print('RMSE is {}'.format(rmse))\n",
        "print(\"\\n\")\n",
        "\n",
        "# testing set\n",
        "\n",
        "target_test_predict = lin_model.predict(test_data)\n",
        "# root mean square error of the model\n",
        "rmse = (np.sqrt(mean_squared_error(test_target, target_test_predict)))#same as above\n",
        "\n",
        "\n",
        "print(\"Testing set error\")\n",
        "print(\"--------------------------------------\")\n",
        "print('RMSE is {}'.format(rmse))\n",
        "print(\"\\n\")\n",
        "\n",
        "\n",
        "\n",
        "# Task 2-5: show plot a figure to show your predictions and real prices on the testing dataset\n",
        "\n",
        "target_test_predict = myPredictFun(np.array(test_data),w)\n",
        "plt.scatter(test_target,target_test_predict)#plot the predictions from the test\n",
        "plt.show()"
      ],
      "execution_count": 82,
      "outputs": [
        {
          "output_type": "stream",
          "text": [
            "Intercept: \n",
            " [22.79653465]\n",
            "\n",
            "\n",
            "Coefficients:\n",
            " [[22.79653465]\n",
            " [-1.00213533]\n",
            " [ 0.69626862]\n",
            " [ 0.27806485]\n",
            " [ 0.7187384 ]\n",
            " [-2.0223194 ]\n",
            " [ 3.14523956]\n",
            " [-0.17604788]\n",
            " [-3.0819076 ]\n",
            " [ 2.25140666]\n",
            " [-1.76701378]\n",
            " [-2.03775151]\n",
            " [ 1.12956831]\n",
            " [-3.61165842]]\n",
            "\n",
            "\n",
            "Training set error\n",
            "--------------------------------------\n",
            "RMSE is 16.473628065591896\n",
            "\n",
            "\n",
            "Testing set error\n",
            "--------------------------------------\n",
            "RMSE is 16.519747037497286\n",
            "\n",
            "\n"
          ],
          "name": "stdout"
        },
        {
          "output_type": "display_data",
          "data": {
            "image/png": "[encoded data removed]",
            "text/plain": [
              "<Figure size 432x288 with 1 Axes>"
            ]
          },
          "metadata": {
            "tags": []
          }
        }
      ]
    },
    {
      "cell_type": "markdown",
      "metadata": {
        "deletable": true,
        "editable": true,
        "id": "MCzHq-3v4_CQ",
        "colab_type": "text"
      },
      "source": [
        "<h4>Use numerical solution (gradient descent) to perform linear regression in the following cell</h4>"
      ]
    },
    {
      "cell_type": "code",
      "metadata": {
        "deletable": true,
        "editable": true,
        "id": "FRPqMJH44_CR",
        "colab_type": "code",
        "colab": {
          "base_uri": "https://localhost:8080/",
          "height": 796
        },
        "outputId": "227be9b5-1a6a-4974-f74a-d52e07646213"
      },
      "source": [
        "# Feature scaling\n",
        "scaler = preprocessing.StandardScaler().fit(train_data)\n",
        "train_data = scaler.transform(train_data)\n",
        "test_data = scaler.transform(test_data)\n",
        "\n",
        "\n",
        "# Task 3-1: Implement a function performing gradient descent\n",
        "# Inputs: Training data, training label, leaerning rate, number of iterations\n",
        "# Output: Weights\n",
        "\n",
        "alpha = 0.01 #Step size\n",
        "iterations = 10 #No. of iterations\n",
        "m=len(train_target)#length of the array of the target\n",
        "w = np.random.rand(14,1)#shape of the array w\n",
        "\n",
        "def myGradientDescentFun(X,y,learning_rate,numItrs,w):\n",
        "  \n",
        "    past_costs = []\n",
        "    past_w = [w]\n",
        "    for i in range(numItrs):#loop\n",
        "        prediction = np.dot(X, w)#prediction by dot product of random weight and X\n",
        "        error = prediction - y#finding error\n",
        "        cost = 1/(2*m) * np.dot(error.T, error)#finding the cost and creating an array for it\n",
        "        past_costs.append(cost)\n",
        "        w = w - (learning_rate * (1/m) * np.dot(X.T, error))#recreating the equation in the slides\n",
        "        past_w.append(w)\n",
        "        \n",
        "    return w\n",
        "\n",
        "# Task 3-2: Implement a function performing prediction\n",
        "# Inputs: Testing data and weights\n",
        "# Output: Predictions\n",
        "def myPredictFun(X,w):\n",
        "  test_X_b = np.c_[np.ones((102, 1)), test_data] #use test data to create a prediction using arrays\n",
        "  prediction = test_X_b.dot(w)#dot probduct using the weights to create the prediciton\n",
        "  \n",
        "  return prediction\n",
        "  \n",
        "\n",
        "# Here we insert a column of 1s into training_data and test_data (to be consistent with our lecture slides)\n",
        "train_data_intercept = np.insert(train_data, 0, 1, axis=1)\n",
        "test_data_intercept = np.insert(test_data, 0, 1, axis=1)\n",
        "\n",
        "# Here we call myGradientDescentFun to train the model and get weights\n",
        "# Note: you need to figure out good learning rate value and the number of iterations\n",
        "weights = myGradientDescentFun(train_data_intercept,train_target,0.01,iterations,w)\n",
        "\n",
        "\n",
        "# Task 3-3: show intercept and coefficents\n",
        "print(\"Intercept: \\n\",w[0])\n",
        "print(\"\\n\")\n",
        "print(\"Coefficients:\\n\",w)\n",
        "\n",
        "# Task 3-4: show errors on training dataset and testing dataset\n",
        "\n",
        "\n",
        "#training set stats\n",
        "target_train_predict = lin_model.predict(train_data)#from the model predict the price\n",
        "rmse = (np.sqrt(mean_squared_error(train_target, target_train_predict)))#find error\n",
        "print(\"\\n\")\n",
        "print(\"Training set error\")\n",
        "print(\"--------------------------------------\")\n",
        "print('RMSE is {}'.format(rmse))\n",
        "print(\"\\n\")\n",
        "\n",
        "# testing set\n",
        "\n",
        "target_test_predict = lin_model.predict(test_data)\n",
        "# root mean square error of the model\n",
        "rmse = (np.sqrt(mean_squared_error(test_target, target_test_predict)))\n",
        "\n",
        "\n",
        "print(\"Testing set error\")\n",
        "print(\"--------------------------------------\")\n",
        "print('RMSE is {}'.format(rmse))\n",
        "print(\"\\n\")\n",
        "\n",
        "# Task 3-5: show plot a figure to show your predictions and real prices on the testing dataset\n",
        "target_test_predict = myPredictFun(np.array(test_data),w)\n",
        "\n",
        "plt.scatter(test_target,target_test_predict)#plot the predictions from the test\n",
        "\n",
        "plt.show()"
      ],
      "execution_count": 83,
      "outputs": [
        {
          "output_type": "stream",
          "text": [
            "Intercept: \n",
            " [0.49915187]\n",
            "\n",
            "\n",
            "Coefficients:\n",
            " [[0.49915187]\n",
            " [0.73075068]\n",
            " [0.91812497]\n",
            " [0.91028333]\n",
            " [0.80701252]\n",
            " [0.93785195]\n",
            " [0.66469275]\n",
            " [0.1025797 ]\n",
            " [0.88506727]\n",
            " [0.40141563]\n",
            " [0.94687573]\n",
            " [0.21565097]\n",
            " [0.60660462]\n",
            " [0.56857143]]\n",
            "\n",
            "\n",
            "Training set error\n",
            "--------------------------------------\n",
            "RMSE is 16.473628065591896\n",
            "\n",
            "\n",
            "Testing set error\n",
            "--------------------------------------\n",
            "RMSE is 16.519747037497286\n",
            "\n",
            "\n"
          ],
          "name": "stdout"
        },
        {
          "output_type": "display_data",
          "data": {
            "image/png": "[encoded data removed]",
            "text/plain": [
              "<Figure size 432x288 with 1 Axes>"
            ]
          },
          "metadata": {
            "tags": []
          }
        }
      ]
    }
  ]
}